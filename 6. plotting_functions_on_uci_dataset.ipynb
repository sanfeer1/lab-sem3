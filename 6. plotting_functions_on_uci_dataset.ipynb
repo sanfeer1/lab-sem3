{
 "cells": [
  {
   "cell_type": "code",
   "execution_count": 1,
   "metadata": {},
   "outputs": [
    {
     "ename": "ModuleNotFoundError",
     "evalue": "No module named 'scipy'",
     "output_type": "error",
     "traceback": [
      "\u001b[1;31m---------------------------------------------------------------------------\u001b[0m",
      "\u001b[1;31mModuleNotFoundError\u001b[0m                       Traceback (most recent call last)",
      "Cell \u001b[1;32mIn[1], line 4\u001b[0m\n\u001b[0;32m      2\u001b[0m \u001b[38;5;28;01mimport\u001b[39;00m \u001b[38;5;21;01mpandas\u001b[39;00m \u001b[38;5;28;01mas\u001b[39;00m \u001b[38;5;21;01mpd\u001b[39;00m \n\u001b[0;32m      3\u001b[0m \u001b[38;5;28;01mimport\u001b[39;00m \u001b[38;5;21;01mnumpy\u001b[39;00m \u001b[38;5;28;01mas\u001b[39;00m \u001b[38;5;21;01mnp\u001b[39;00m \n\u001b[1;32m----> 4\u001b[0m \u001b[38;5;28;01mfrom\u001b[39;00m \u001b[38;5;21;01mscipy\u001b[39;00m\u001b[38;5;21;01m.\u001b[39;00m\u001b[38;5;21;01mstats\u001b[39;00m \u001b[38;5;28;01mimport\u001b[39;00m norm \n\u001b[0;32m      5\u001b[0m \u001b[38;5;28;01mimport\u001b[39;00m \u001b[38;5;21;01mseaborn\u001b[39;00m \u001b[38;5;28;01mas\u001b[39;00m \u001b[38;5;21;01msns\u001b[39;00m \n\u001b[0;32m      6\u001b[0m \u001b[38;5;28;01mimport\u001b[39;00m \u001b[38;5;21;01mmatplotlib\u001b[39;00m\u001b[38;5;21;01m.\u001b[39;00m\u001b[38;5;21;01mpyplot\u001b[39;00m \u001b[38;5;28;01mas\u001b[39;00m \u001b[38;5;21;01mpl\u001b[39;00m \n",
      "\u001b[1;31mModuleNotFoundError\u001b[0m: No module named 'scipy'"
     ]
    }
   ],
   "source": [
    "import matplotlib \n",
    "import pandas as pd \n",
    "import numpy as np \n",
    "from scipy.stats import norm \n",
    "import seaborn as sns \n",
    "import matplotlib.pyplot as pl "
   ]
  },
  {
   "cell_type": "code",
   "execution_count": null,
   "metadata": {},
   "outputs": [],
   "source": [
    "df=pd.read_csv(\"diabetes_data_upload.csv\")  \n",
    "print(df)"
   ]
  },
  {
   "cell_type": "code",
   "execution_count": null,
   "metadata": {},
   "outputs": [],
   "source": [
    "#normal curve plot \n",
    "data=df['Polyuria'] \n",
    "mean=data.mean()  \n",
    "std_dev=data.std() \n",
    "random=np.random.normal(mean,std_dev,len(data))  \n",
    "xmin,xmax=pl.xlim() \n",
    "x=np.linspace(xmin,xmax,100)  \n",
    "p=norm.pdf(x,mean,std_dev)  \n",
    "pl.title(\"Normal Curve\") \n",
    "pl.plot(x,p,\"g\",linewidth=2,label=\"Normal\")  \n",
    "pl.show()"
   ]
  },
  {
   "cell_type": "code",
   "execution_count": null,
   "metadata": {},
   "outputs": [],
   "source": [
    "#Density and Contour plots \n",
    "sns.kdeplot(data=df, x='Age', y='weakness', fill=True)  \n",
    "pl.title('Density and Contour Plot') \n",
    "pl.xlabel('x') \n",
    "pl.ylabel('y')  \n",
    "pl.show()"
   ]
  },
  {
   "cell_type": "code",
   "execution_count": null,
   "metadata": {},
   "outputs": [],
   "source": [
    "#correlation and scatter plot  \n",
    "x = df['Age'] \n",
    "y = df['Obesity']  \n",
    "sns.scatterplot(x) \n",
    "corr = np.corrcoef(x, y)[0, 1] \n",
    "pl.title('Scatter Plot with Correlation Coefficient')  \n",
    "pl.xlabel('Age') \n",
    "pl.ylabel('Obesity') \n",
    "pl.text(0.5, 0.5, 'Correlation Coefficient: {0:.2f}'.format(corr))  \n",
    "pl.show() "
   ]
  },
  {
   "cell_type": "code",
   "execution_count": null,
   "metadata": {},
   "outputs": [],
   "source": [
    "#Histogram plot  \n",
    "numbers = df['Age'] \n",
    "pl.hist(numbers, bins=10)  \n",
    "pl.title(\"Histogram\")  \n",
    "pl.xlabel(\"Interval\")  \n",
    "pl.ylabel(\"Age\")  \n",
    "pl.show() \n",
    "#3d plot 1   \n",
    "fig = pl.figure() \n",
    "ax = pl.axes(projection='3d')  \n",
    "zline = np.linspace(0, 5, 20)  \n",
    "xline = df['Age'].head(20)  \n",
    "yline = df['Itching'].head(20) \n",
    "ax.scatter3D(xline, yline, zline, 'greenmaps') \n",
    "pl.show() \n",
    "#3d plot 2 \n",
    "fig = pl.figure() \n",
    "ax = pl.axes(projection='3d')  \n",
    "zline = np.linspace(0, 5, 20)  \n",
    "xline = df['Age'].head(20)  \n",
    "yline = df['Itching'].head(20)  \n",
    "ax.plot3D(xline, yline, zline) \n",
    "pl.show()"
   ]
  },
  {
   "cell_type": "code",
   "execution_count": null,
   "metadata": {},
   "outputs": [],
   "source": [
    "#3d plot 3 \n",
    "def f(x, y): \n",
    "    return np.sin(np.sqrt(x ** 2 + y ** 2))  \n",
    "x =df['Age'].head(10) \n",
    "y = df['Obesity'].head(10)  \n",
    "X, Y = np.meshgrid(x, y)  \n",
    "Z = f(X, Y) \n",
    "fig = pl.figure() \n",
    "ax = pl.axes(projection ='3d') \n",
    "ax.plot_wireframe(X, Y, Z, color ='green')  \n",
    "ax.set_title('WireFrame for UCI Dataset') \n",
    "pl.show()"
   ]
  }
 ],
 "metadata": {
  "kernelspec": {
   "display_name": "Python 3",
   "language": "python",
   "name": "python3"
  },
  "language_info": {
   "codemirror_mode": {
    "name": "ipython",
    "version": 3
   },
   "file_extension": ".py",
   "mimetype": "text/x-python",
   "name": "python",
   "nbconvert_exporter": "python",
   "pygments_lexer": "ipython3",
   "version": "3.10.0"
  }
 },
 "nbformat": 4,
 "nbformat_minor": 2
}
